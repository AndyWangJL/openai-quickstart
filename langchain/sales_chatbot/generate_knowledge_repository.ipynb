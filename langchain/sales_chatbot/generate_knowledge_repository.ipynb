{
 "cells": [
  {
   "metadata": {},
   "cell_type": "markdown",
   "source": "# Generate Knowledge Repository",
   "id": "31604318266e4d97"
  },
  {
   "metadata": {},
   "cell_type": "markdown",
   "source": "## 1. Load Data",
   "id": "5b368bc32a831722"
  },
  {
   "metadata": {
    "ExecuteTime": {
     "end_time": "2024-07-24T13:53:59.677594Z",
     "start_time": "2024-07-24T13:53:59.672759Z"
    }
   },
   "cell_type": "code",
   "source": [
    "with open(\"real_estate_sales_data.txt\", encoding='utf-8') as f:\n",
    "    real_estate_sales = f.read()"
   ],
   "id": "448bae92e7337b4",
   "outputs": [],
   "execution_count": 7
  },
  {
   "metadata": {},
   "cell_type": "markdown",
   "source": "## 2. Preprocess Data",
   "id": "d58c5a2b8c764fd1"
  },
  {
   "metadata": {
    "ExecuteTime": {
     "end_time": "2024-07-24T13:54:00.359560Z",
     "start_time": "2024-07-24T13:54:00.354987Z"
    }
   },
   "cell_type": "code",
   "source": [
    "from langchain.text_splitter import CharacterTextSplitter\n",
    "\n",
    "text_splitter = CharacterTextSplitter(        \n",
    "    separator = r'\\d+\\.',\n",
    "    chunk_size = 100,\n",
    "    chunk_overlap  = 0,\n",
    "    length_function = len,\n",
    "    is_separator_regex = True,\n",
    ")"
   ],
   "id": "fac48cd7f6b72c5c",
   "outputs": [],
   "execution_count": 8
  },
  {
   "metadata": {
    "ExecuteTime": {
     "end_time": "2024-07-24T13:54:00.526219Z",
     "start_time": "2024-07-24T13:54:00.520739Z"
    }
   },
   "cell_type": "code",
   "source": "docs = text_splitter.create_documents([real_estate_sales])",
   "id": "d66533d8625ad056",
   "outputs": [],
   "execution_count": 9
  },
  {
   "metadata": {},
   "cell_type": "markdown",
   "source": "## 3. Generate Knowledge Repository",
   "id": "1f392071bb7029f2"
  },
  {
   "metadata": {
    "ExecuteTime": {
     "end_time": "2024-07-24T13:54:07.339665Z",
     "start_time": "2024-07-24T13:54:00.792959Z"
    }
   },
   "cell_type": "code",
   "source": [
    "from langchain.embeddings.openai import OpenAIEmbeddings\n",
    "from langchain.vectorstores import FAISS\n",
    "\n",
    "db = FAISS.from_documents(docs, OpenAIEmbeddings())"
   ],
   "id": "873a523508b36c8",
   "outputs": [],
   "execution_count": 10
  },
  {
   "metadata": {},
   "cell_type": "markdown",
   "source": "## 4. Save Knowledge Repository",
   "id": "cf91385630252c8f"
  },
  {
   "metadata": {
    "ExecuteTime": {
     "end_time": "2024-07-24T13:54:07.347445Z",
     "start_time": "2024-07-24T13:54:07.340688Z"
    }
   },
   "cell_type": "code",
   "source": "db.save_local(\"real_estates_sale\")",
   "id": "d9d9b06527c512fd",
   "outputs": [],
   "execution_count": 11
  },
  {
   "metadata": {
    "ExecuteTime": {
     "end_time": "2024-07-24T13:52:45.584666Z",
     "start_time": "2024-07-24T13:52:44.826354Z"
    }
   },
   "cell_type": "code",
   "source": [
    "query = \"小区吵不吵\"\n",
    "answer_list = db.similarity_search(query)\n",
    "for ans in answer_list:\n",
    "    print(ans.page_content + \"\\n\")"
   ],
   "id": "80559177ca14fc25",
   "outputs": [
    {
     "name": "stdout",
     "output_type": "stream",
     "text": [
      "[客户问题] 我担心楼下太吵。\n",
      "[销售回答] 这个小区特别注重居住体验，我们有良好的隔音设计，并且小区内部规划了绿化区域，可以有效降低噪音。\n",
      "\n",
      "[客户问题] 我担心楼下的商业活动会很吵。\n",
      "[销售回答] 我们在规划时就已经考虑到这一点，商业区和居住区有一定的距离和隔音设计。\n",
      "\n",
      "[客户问题] 我喜欢安静，这里噪音大吗？\n",
      "[销售回答] 我们特意进行了隔音设计，并且小区内部也有绿化带，整体非常安静。\n",
      "\n",
      "[客户问题] 我担心小区会很拥挤。\n",
      "[销售回答] 这个小区总体规划非常合理，保证了每个单元之间有足够的空间。\n",
      "\n"
     ]
    }
   ],
   "execution_count": 5
  },
  {
   "metadata": {
    "ExecuteTime": {
     "end_time": "2024-07-24T13:59:00.276600Z",
     "start_time": "2024-07-24T13:58:59.006372Z"
    }
   },
   "cell_type": "code",
   "source": "! conda env config vars list",
   "id": "161367cc297ef286",
   "outputs": [
    {
     "name": "stdout",
     "output_type": "stream",
     "text": [
      "OPENAI_API_KEY = sk-IqoK1CskCE5IlZSh2085024d9f9a41Bb855bBfD000Cc07C4\n",
      "SERPAPI_API_KEY = a60f3c597ce0064aca04a37bd299b4ea1683547fb72df6f7bbab99df32046261\n",
      "OPENAI_BASE_URL = https://apikeyplus.com/v1\n"
     ]
    }
   ],
   "execution_count": 14
  },
  {
   "metadata": {
    "ExecuteTime": {
     "end_time": "2024-07-24T13:58:55.153076Z",
     "start_time": "2024-07-24T13:58:51.345434Z"
    }
   },
   "cell_type": "code",
   "source": [
    "! conda env config vars set OPENAI_BASE_URL=\"https://apikeyplus.com/v1\"\n",
    "! conda env config vars unset \"https://apikeyplus.com/v1\"\n",
    "! conda env config vars unset \" \""
   ],
   "id": "1c5d0f1cd2f0665",
   "outputs": [
    {
     "name": "stdout",
     "output_type": "stream",
     "text": [
      "To make your changes take effect please reactivate your environment\n",
      "To make your changes take effect please reactivate your environment\n",
      "To make your changes take effect please reactivate your environment\n"
     ]
    }
   ],
   "execution_count": 13
  },
  {
   "metadata": {},
   "cell_type": "code",
   "outputs": [],
   "execution_count": null,
   "source": "",
   "id": "238de9b6f1064437"
  }
 ],
 "metadata": {
  "kernelspec": {
   "display_name": "langchain",
   "language": "python",
   "name": "langchain"
  },
  "language_info": {
   "codemirror_mode": {
    "name": "ipython",
    "version": 2
   },
   "file_extension": ".py",
   "mimetype": "text/x-python",
   "name": "python",
   "nbconvert_exporter": "python",
   "pygments_lexer": "ipython2",
   "version": "2.7.6"
  }
 },
 "nbformat": 4,
 "nbformat_minor": 5
}
