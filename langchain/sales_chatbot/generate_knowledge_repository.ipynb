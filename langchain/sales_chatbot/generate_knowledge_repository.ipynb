{
 "cells": [
  {
   "metadata": {},
   "cell_type": "markdown",
   "source": "# Generate Knowledge Repository",
   "id": "31604318266e4d97"
  },
  {
   "metadata": {},
   "cell_type": "markdown",
   "source": "## 1. Load Data",
   "id": "5b368bc32a831722"
  },
  {
   "metadata": {
    "ExecuteTime": {
     "end_time": "2024-07-27T10:07:10.056160Z",
     "start_time": "2024-07-27T10:07:10.046843Z"
    }
   },
   "cell_type": "code",
   "source": [
    "with open(\"car_sales_data.txt\", encoding='utf-8') as f:\n",
    "    real_estate_sales = f.read()"
   ],
   "id": "448bae92e7337b4",
   "outputs": [],
   "execution_count": 1
  },
  {
   "metadata": {},
   "cell_type": "markdown",
   "source": "## 2. Preprocess Data",
   "id": "d58c5a2b8c764fd1"
  },
  {
   "metadata": {
    "ExecuteTime": {
     "end_time": "2024-07-27T10:07:11.982266Z",
     "start_time": "2024-07-27T10:07:11.045486Z"
    }
   },
   "cell_type": "code",
   "source": [
    "from langchain.text_splitter import CharacterTextSplitter\n",
    "\n",
    "text_splitter = CharacterTextSplitter(        \n",
    "    separator = r'\\d+\\.',\n",
    "    chunk_size = 100,\n",
    "    chunk_overlap  = 0,\n",
    "    length_function = len,\n",
    "    is_separator_regex = True,\n",
    ")"
   ],
   "id": "fac48cd7f6b72c5c",
   "outputs": [],
   "execution_count": 2
  },
  {
   "metadata": {
    "ExecuteTime": {
     "end_time": "2024-07-27T10:07:12.670460Z",
     "start_time": "2024-07-27T10:07:12.662711Z"
    }
   },
   "cell_type": "code",
   "source": "docs = text_splitter.create_documents([real_estate_sales])",
   "id": "d66533d8625ad056",
   "outputs": [
    {
     "name": "stderr",
     "output_type": "stream",
     "text": [
      "Created a chunk of size 106, which is longer than the specified 100\n"
     ]
    }
   ],
   "execution_count": 3
  },
  {
   "metadata": {},
   "cell_type": "markdown",
   "source": "## 3. Generate Knowledge Repository",
   "id": "1f392071bb7029f2"
  },
  {
   "metadata": {
    "ExecuteTime": {
     "end_time": "2024-07-27T10:08:15.544570Z",
     "start_time": "2024-07-27T10:07:16.502881Z"
    }
   },
   "cell_type": "code",
   "source": [
    "from langchain.embeddings.openai import OpenAIEmbeddings\n",
    "from langchain.vectorstores import FAISS\n",
    "\n",
    "db = FAISS.from_documents(docs, OpenAIEmbeddings())"
   ],
   "id": "873a523508b36c8",
   "outputs": [
    {
     "name": "stderr",
     "output_type": "stream",
     "text": [
      "C:\\Users\\WJL\\miniconda3\\envs\\langchain\\lib\\site-packages\\langchain_core\\_api\\deprecation.py:139: LangChainDeprecationWarning: The class `OpenAIEmbeddings` was deprecated in LangChain 0.0.9 and will be removed in 0.3.0. An updated version of the class exists in the langchain-openai package and should be used instead. To use it run `pip install -U langchain-openai` and import as `from langchain_openai import OpenAIEmbeddings`.\n",
      "  warn_deprecated(\n"
     ]
    }
   ],
   "execution_count": 4
  },
  {
   "metadata": {},
   "cell_type": "markdown",
   "source": "## 4. Save Knowledge Repository",
   "id": "cf91385630252c8f"
  },
  {
   "metadata": {
    "ExecuteTime": {
     "end_time": "2024-07-27T10:09:11.422491Z",
     "start_time": "2024-07-27T10:09:11.417068Z"
    }
   },
   "cell_type": "code",
   "source": "db.save_local(\"car_estates_sale\")",
   "id": "d9d9b06527c512fd",
   "outputs": [],
   "execution_count": 7
  },
  {
   "metadata": {
    "ExecuteTime": {
     "end_time": "2024-07-27T10:08:31.799459Z",
     "start_time": "2024-07-27T10:08:31.023741Z"
    }
   },
   "cell_type": "code",
   "source": [
    "query = \"本田汽车加速怎么样？\"\n",
    "answer_list = db.similarity_search(query)\n",
    "for ans in answer_list:\n",
    "    print(ans.page_content + \"\\n\")"
   ],
   "id": "80559177ca14fc25",
   "outputs": [
    {
     "name": "stdout",
     "output_type": "stream",
     "text": [
      "[客户问题] 本田车的变速箱表现如何？\n",
      "    [销售回答] 本田车的变速箱技术领先市场，提供平顺的换挡体验和高效的动力传输，无论是自动变速箱还是手动变速箱，都能带给您优异的驾驶感受。\n",
      "\n",
      "[客户问题] 本田车的高速稳定性怎么样？\n",
      "    [销售回答] 本田车的高速稳定性非常出色，底盘调校和空气动力学设计均衡，确保在高速行驶时的稳定性和安全性。\n",
      "\n",
      "[客户问题] 本田车的动力输出平顺吗？\n",
      "    [销售回答] 本田车的动力输出非常平顺，采用先进的发动机技术和变速箱调校，无论是加速还是巡航，都能提供平滑的动力传递。\n",
      "\n",
      "[客户问题] 本田车的刹车性能怎么样？\n",
      "    [销售回答] 本田车的刹车性能非常出色，采用了先进的制动系统和高性能刹车片，确保在各种路况下提供强劲和稳定的制动力。\n",
      "\n"
     ]
    }
   ],
   "execution_count": 6
  },
  {
   "metadata": {},
   "cell_type": "code",
   "outputs": [],
   "execution_count": null,
   "source": "",
   "id": "238de9b6f1064437"
  }
 ],
 "metadata": {
  "kernelspec": {
   "display_name": "langchain",
   "language": "python",
   "name": "langchain"
  },
  "language_info": {
   "codemirror_mode": {
    "name": "ipython",
    "version": 2
   },
   "file_extension": ".py",
   "mimetype": "text/x-python",
   "name": "python",
   "nbconvert_exporter": "python",
   "pygments_lexer": "ipython2",
   "version": "2.7.6"
  }
 },
 "nbformat": 4,
 "nbformat_minor": 5
}
